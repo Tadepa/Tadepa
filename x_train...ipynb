{
 "cells": [
  {
   "cell_type": "code",
   "execution_count": 1,
   "id": "c8ea5b1a",
   "metadata": {},
   "outputs": [],
   "source": [
    "import os\n",
    "import random as rd\n",
    "import glob\n",
    "import numpy as np\n",
    "import cv2"
   ]
  },
  {
   "cell_type": "code",
   "execution_count": 13,
   "id": "f839622f",
   "metadata": {},
   "outputs": [],
   "source": [
    "with_mask = glob.glob(r'C:\\Users\\LENOVO\\Videos\\mask\\with_mask/*.*')\n",
    "without_mask = glob.glob(r'C:\\Users\\LENOVO\\Videos\\mask\\without_mask/*.*')"
   ]
  },
  {
   "cell_type": "code",
   "execution_count": 18,
   "id": "3235cbdb",
   "metadata": {},
   "outputs": [
    {
     "data": {
      "text/plain": [
       "(218, 135, 3)"
      ]
     },
     "execution_count": 18,
     "metadata": {},
     "output_type": "execute_result"
    }
   ],
   "source": [
    "cv2.imread(with_mask[0])"
   ]
  },
  {
   "cell_type": "code",
   "execution_count": 19,
   "id": "e7f8d29e",
   "metadata": {},
   "outputs": [],
   "source": [
    "data = []\n",
    "labels = []\n",
    "\n",
    "for i in with_mask:\n",
    "    img=cv2.imread(i)\n",
    "    img=cv2.resize(img, (250,250))\n",
    "    data.append(img)\n",
    "    labels.append(0)\n",
    "    \n",
    "    \n",
    "for i in without_mask:\n",
    "    img=cv2.imread(i)\n",
    "    img=cv2.resize(img, (250,250))\n",
    "    data.append(img)\n",
    "    labels.append(1)"
   ]
  },
  {
   "cell_type": "code",
   "execution_count": 39,
   "id": "48ad3596",
   "metadata": {},
   "outputs": [
    {
     "name": "stdout",
     "output_type": "stream",
     "text": [
      "1\n"
     ]
    }
   ],
   "source": [
    "cv2.imshow(\"img\",data[4000])\n",
    "cv2.waitKey(0)\n",
    "cv2.destroyAllWindows()\n",
    "print(labels[4000])"
   ]
  },
  {
   "cell_type": "code",
   "execution_count": 40,
   "id": "bc3d0878",
   "metadata": {},
   "outputs": [],
   "source": [
    "from sklearn.model_selection import train_test_split"
   ]
  },
  {
   "cell_type": "code",
   "execution_count": 48,
   "id": "5839fed1",
   "metadata": {},
   "outputs": [],
   "source": [
    "x_train,x_test,y_train,y_test=train_test_split(np.array(data),np.array(labels),test_size=0.2)"
   ]
  },
  {
   "cell_type": "code",
   "execution_count": 49,
   "id": "bc5df371",
   "metadata": {},
   "outputs": [
    {
     "data": {
      "text/plain": [
       "(6042, 250, 250, 3)"
      ]
     },
     "execution_count": 49,
     "metadata": {},
     "output_type": "execute_result"
    }
   ],
   "source": [
    "x_train.shape"
   ]
  },
  {
   "cell_type": "code",
   "execution_count": null,
   "id": "1ef2f840",
   "metadata": {},
   "outputs": [],
   "source": []
  }
 ],
 "metadata": {
  "kernelspec": {
   "display_name": "Python 3 (ipykernel)",
   "language": "python",
   "name": "python3"
  },
  "language_info": {
   "codemirror_mode": {
    "name": "ipython",
    "version": 3
   },
   "file_extension": ".py",
   "mimetype": "text/x-python",
   "name": "python",
   "nbconvert_exporter": "python",
   "pygments_lexer": "ipython3",
   "version": "3.9.13"
  }
 },
 "nbformat": 4,
 "nbformat_minor": 5
}
