{
 "cells": [
  {
   "cell_type": "code",
   "execution_count": 24,
   "id": "150c4ca7",
   "metadata": {},
   "outputs": [],
   "source": [
    "import cv2\n",
    "import numpy as np\n",
    "\n",
    "image = cv2.imread(r\"C:\\Users\\LENOVO\\Desktop\\introduction-to-machine-learning.png\")\n",
    "cv2.imshow('Translation', image)\n",
    "cv2.waitKey()\n",
    "cv2.destroyAllWindows()\n",
    "\n"
   ]
  },
  {
   "cell_type": "code",
   "execution_count": 23,
   "id": "e6ca573f",
   "metadata": {},
   "outputs": [],
   "source": [
    "\n",
    "height, width = image.shape[:2]\n",
    "\n",
    "tx,ty = height/2, width/2\n",
    "T = np.float32([[1, 0,50], [0, 1,100]])\n",
    "\n",
    "img_translation = cv2.warpAffine(image, T, (width, height))\n",
    "cv2.imshow('Translation', img_translation)\n",
    "cv2.waitKey()\n",
    "cv2.destroyAllWindows()"
   ]
  },
  {
   "cell_type": "code",
   "execution_count": 34,
   "id": "bec39fd6",
   "metadata": {},
   "outputs": [],
   "source": [
    "image = cv2.imread(r\"C:\\Users\\LENOVO\\Desktop\\introduction-to-machine-learning.png\")\n",
    "height, width = image.shape[:2]\n",
    "\n",
    "\n",
    "rotation_matrix = cv2.getRotationMatrix2D((width/2, height/2),90,1)\n",
    "\n",
    "rotated_image = cv2.warpAffine(image, rotation_matrix, (width, height))\n",
    "\n",
    "cv2.imshow('Rotated Image', rotated_image)\n",
    "cv2.waitKey()\n",
    "cv2.destroyAllWindows()"
   ]
  },
  {
   "cell_type": "code",
   "execution_count": 43,
   "id": "1c3ac24f",
   "metadata": {},
   "outputs": [],
   "source": [
    "image = cv2.imread(r\"C:\\Users\\LENOVO\\Desktop\\introduction-to-machine-learning.png\")\n",
    "\n",
    "rotated_image = cv2.transpose(image)\n",
    "\n",
    "cv2.imshow('Rotated Image - Method 2', rotated_image)\n",
    "cv2.waitKey()\n",
    "cv2.destroyAllWindows()\n",
    "\n"
   ]
  },
  {
   "cell_type": "code",
   "execution_count": 44,
   "id": "fe56c381",
   "metadata": {},
   "outputs": [
    {
     "data": {
      "text/plain": [
       "-1"
      ]
     },
     "execution_count": 44,
     "metadata": {},
     "output_type": "execute_result"
    }
   ],
   "source": [
    "image = cv2.imread(r\"C:\\Users\\LENOVO\\Desktop\\introduction-to-machine-learning.png\")\n",
    "image_scaled = cv2.resize(image, None, fx=0.75, fy=0.75)\n",
    "cv2.imshow('Scaling - Linear Interpolation', image_scaled) \n",
    "cv2.waitKey()\n"
   ]
  },
  {
   "cell_type": "code",
   "execution_count": 7,
   "id": "c24cd270",
   "metadata": {},
   "outputs": [],
   "source": [
    "\n",
    "\n",
    "img_scaled = cv2.resize(image, (90, 400), interpolation = cv2.INTER_NEAREST)\n",
    "cv2.imshow('Scaling - Skewed Size', img_scaled) \n",
    "cv2.waitKey()\n",
    "\n",
    "cv2.destroyAllWindows()"
   ]
  },
  {
   "cell_type": "code",
   "execution_count": 10,
   "id": "310c0c56",
   "metadata": {},
   "outputs": [],
   "source": [
    "image = cv2.imread(r\"C:\\Users\\LENOVO\\Desktop\\introduction-to-machine-learning.png\")\n",
    "cv2.imshow('Scaling - Skewed Size', image) \n",
    "cv2.waitKey()\n",
    "\n",
    "cv2.destroyAllWindows()\n",
    "\n",
    "smaller = cv2.pyrDown(image)\n",
    "up=cv2.pyrUp(smaller)\n",
    "cv2.imshow('Scaling - Skewed Size', up) \n",
    "cv2.waitKey()\n",
    "\n",
    "cv2.destroyAllWindows()\n"
   ]
  },
  {
   "cell_type": "code",
   "execution_count": 13,
   "id": "676b60c0",
   "metadata": {},
   "outputs": [],
   "source": [
    "\n",
    "image = cv2.imread(r\"C:\\Users\\LENOVO\\Desktop\\introduction-to-machine-learning.png\")\n",
    "\n",
    "smaller = cv2.pyrDown(image)\n",
    "larger = cv2.pyrDown(smaller)\n",
    "\n",
    "cv2.imshow('Original', image )\n",
    "\n",
    "cv2.imshow('Smaller ', smaller )\n",
    "cv2.imshow('Larger ', larger )\n",
    "cv2.waitKey(0)\n",
    "cv2.destroyAllWindows()"
   ]
  },
  {
   "cell_type": "code",
   "execution_count": null,
   "id": "974d1795",
   "metadata": {},
   "outputs": [],
   "source": []
  }
 ],
 "metadata": {
  "kernelspec": {
   "display_name": "Python 3 (ipykernel)",
   "language": "python",
   "name": "python3"
  },
  "language_info": {
   "codemirror_mode": {
    "name": "ipython",
    "version": 3
   },
   "file_extension": ".py",
   "mimetype": "text/x-python",
   "name": "python",
   "nbconvert_exporter": "python",
   "pygments_lexer": "ipython3",
   "version": "3.9.13"
  }
 },
 "nbformat": 4,
 "nbformat_minor": 5
}
